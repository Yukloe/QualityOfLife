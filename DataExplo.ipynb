{
 "cells": [
  {
   "cell_type": "code",
   "execution_count": 16,
   "id": "initial_id",
   "metadata": {
    "collapsed": true,
    "ExecuteTime": {
     "end_time": "2024-03-09T22:29:54.105290Z",
     "start_time": "2024-03-09T22:29:54.101136Z"
    }
   },
   "outputs": [],
   "source": [
    "import pandas as pd\n",
    "import matplotlib.pyplot as plt\n",
    "import seaborn as sns\n",
    "import numpy as np"
   ]
  },
  {
   "cell_type": "markdown",
   "source": [
    "# Importation des CSV"
   ],
   "metadata": {
    "collapsed": false
   },
   "id": "a1025231b7b2dcb4"
  },
  {
   "cell_type": "code",
   "outputs": [
    {
     "data": {
      "text/plain": "          country  cost_index  monthly_income  purchasing_power_index\n0         Bermuda       157.6            9712                   105.0\n1     Switzerland       142.4            7530                    90.1\n2  Cayman Islands       137.9            5281                    65.2\n3          Israel       130.2            4130                    54.1\n4         Iceland       128.0            5368                    71.5",
      "text/html": "<div>\n<style scoped>\n    .dataframe tbody tr th:only-of-type {\n        vertical-align: middle;\n    }\n\n    .dataframe tbody tr th {\n        vertical-align: top;\n    }\n\n    .dataframe thead th {\n        text-align: right;\n    }\n</style>\n<table border=\"1\" class=\"dataframe\">\n  <thead>\n    <tr style=\"text-align: right;\">\n      <th></th>\n      <th>country</th>\n      <th>cost_index</th>\n      <th>monthly_income</th>\n      <th>purchasing_power_index</th>\n    </tr>\n  </thead>\n  <tbody>\n    <tr>\n      <th>0</th>\n      <td>Bermuda</td>\n      <td>157.6</td>\n      <td>9712</td>\n      <td>105.0</td>\n    </tr>\n    <tr>\n      <th>1</th>\n      <td>Switzerland</td>\n      <td>142.4</td>\n      <td>7530</td>\n      <td>90.1</td>\n    </tr>\n    <tr>\n      <th>2</th>\n      <td>Cayman Islands</td>\n      <td>137.9</td>\n      <td>5281</td>\n      <td>65.2</td>\n    </tr>\n    <tr>\n      <th>3</th>\n      <td>Israel</td>\n      <td>130.2</td>\n      <td>4130</td>\n      <td>54.1</td>\n    </tr>\n    <tr>\n      <th>4</th>\n      <td>Iceland</td>\n      <td>128.0</td>\n      <td>5368</td>\n      <td>71.5</td>\n    </tr>\n  </tbody>\n</table>\n</div>"
     },
     "execution_count": 17,
     "metadata": {},
     "output_type": "execute_result"
    }
   ],
   "source": [
    "df_col = pd.read_csv(r'.\\Data\\cost_of_living.csv', delimiter=',')\n",
    "df_col.head()"
   ],
   "metadata": {
    "collapsed": false,
    "ExecuteTime": {
     "end_time": "2024-03-09T22:29:54.179076Z",
     "start_time": "2024-03-09T22:29:54.157884Z"
    }
   },
   "id": "81b0055e1c369d41",
   "execution_count": 17
  },
  {
   "cell_type": "code",
   "outputs": [
    {
     "data": {
      "text/plain": "   work_year             job_title                    job_category  \\\n0       2023  Data DevOps Engineer                Data Engineering   \n1       2023        Data Architect  Data Architecture and Modeling   \n2       2023        Data Architect  Data Architecture and Modeling   \n3       2023        Data Scientist       Data Science and Research   \n4       2023        Data Scientist       Data Science and Research   \n\n  salary_currency  salary  salary_in_usd employee_residence experience_level  \\\n0             EUR   88000          95012            Germany        Mid-level   \n1             USD  186000         186000      United States           Senior   \n2             USD   81800          81800      United States           Senior   \n3             USD  212000         212000      United States           Senior   \n4             USD   93300          93300      United States           Senior   \n\n  employment_type work_setting company_location company_size  \n0       Full-time       Hybrid          Germany            L  \n1       Full-time    In-person    United States            M  \n2       Full-time    In-person    United States            M  \n3       Full-time    In-person    United States            M  \n4       Full-time    In-person    United States            M  ",
      "text/html": "<div>\n<style scoped>\n    .dataframe tbody tr th:only-of-type {\n        vertical-align: middle;\n    }\n\n    .dataframe tbody tr th {\n        vertical-align: top;\n    }\n\n    .dataframe thead th {\n        text-align: right;\n    }\n</style>\n<table border=\"1\" class=\"dataframe\">\n  <thead>\n    <tr style=\"text-align: right;\">\n      <th></th>\n      <th>work_year</th>\n      <th>job_title</th>\n      <th>job_category</th>\n      <th>salary_currency</th>\n      <th>salary</th>\n      <th>salary_in_usd</th>\n      <th>employee_residence</th>\n      <th>experience_level</th>\n      <th>employment_type</th>\n      <th>work_setting</th>\n      <th>company_location</th>\n      <th>company_size</th>\n    </tr>\n  </thead>\n  <tbody>\n    <tr>\n      <th>0</th>\n      <td>2023</td>\n      <td>Data DevOps Engineer</td>\n      <td>Data Engineering</td>\n      <td>EUR</td>\n      <td>88000</td>\n      <td>95012</td>\n      <td>Germany</td>\n      <td>Mid-level</td>\n      <td>Full-time</td>\n      <td>Hybrid</td>\n      <td>Germany</td>\n      <td>L</td>\n    </tr>\n    <tr>\n      <th>1</th>\n      <td>2023</td>\n      <td>Data Architect</td>\n      <td>Data Architecture and Modeling</td>\n      <td>USD</td>\n      <td>186000</td>\n      <td>186000</td>\n      <td>United States</td>\n      <td>Senior</td>\n      <td>Full-time</td>\n      <td>In-person</td>\n      <td>United States</td>\n      <td>M</td>\n    </tr>\n    <tr>\n      <th>2</th>\n      <td>2023</td>\n      <td>Data Architect</td>\n      <td>Data Architecture and Modeling</td>\n      <td>USD</td>\n      <td>81800</td>\n      <td>81800</td>\n      <td>United States</td>\n      <td>Senior</td>\n      <td>Full-time</td>\n      <td>In-person</td>\n      <td>United States</td>\n      <td>M</td>\n    </tr>\n    <tr>\n      <th>3</th>\n      <td>2023</td>\n      <td>Data Scientist</td>\n      <td>Data Science and Research</td>\n      <td>USD</td>\n      <td>212000</td>\n      <td>212000</td>\n      <td>United States</td>\n      <td>Senior</td>\n      <td>Full-time</td>\n      <td>In-person</td>\n      <td>United States</td>\n      <td>M</td>\n    </tr>\n    <tr>\n      <th>4</th>\n      <td>2023</td>\n      <td>Data Scientist</td>\n      <td>Data Science and Research</td>\n      <td>USD</td>\n      <td>93300</td>\n      <td>93300</td>\n      <td>United States</td>\n      <td>Senior</td>\n      <td>Full-time</td>\n      <td>In-person</td>\n      <td>United States</td>\n      <td>M</td>\n    </tr>\n  </tbody>\n</table>\n</div>"
     },
     "execution_count": 18,
     "metadata": {},
     "output_type": "execute_result"
    }
   ],
   "source": [
    "df_jid = pd.read_csv(r'.\\Data\\jobs_in_data.csv', delimiter=',')\n",
    "df_jid.head()"
   ],
   "metadata": {
    "collapsed": false,
    "ExecuteTime": {
     "end_time": "2024-03-09T22:29:54.216939Z",
     "start_time": "2024-03-09T22:29:54.181088Z"
    }
   },
   "id": "e3c4803191031fb2",
   "execution_count": 18
  },
  {
   "cell_type": "code",
   "outputs": [
    {
     "data": {
      "text/plain": "   Unnamed: 0  Rank      Country  Stability  Rights  Health  Safety  Climate  \\\n0           0     1    Australia         86      92      87     100       90   \n1           1     2   San Marino         81      82      91      87       62   \n2           2     3    Hong Kong         77      85     100      97       49   \n3           3     4  Switzerland         91      99      93      99       34   \n4           4     5        Macao         90      71     100      93       48   \n\n   Costs  Popularity  TotalQuality of life  \n0     23          41                    76  \n1     61          47                    74  \n2     61          41                    74  \n3     44          46                    74  \n4     61          44                    73  ",
      "text/html": "<div>\n<style scoped>\n    .dataframe tbody tr th:only-of-type {\n        vertical-align: middle;\n    }\n\n    .dataframe tbody tr th {\n        vertical-align: top;\n    }\n\n    .dataframe thead th {\n        text-align: right;\n    }\n</style>\n<table border=\"1\" class=\"dataframe\">\n  <thead>\n    <tr style=\"text-align: right;\">\n      <th></th>\n      <th>Unnamed: 0</th>\n      <th>Rank</th>\n      <th>Country</th>\n      <th>Stability</th>\n      <th>Rights</th>\n      <th>Health</th>\n      <th>Safety</th>\n      <th>Climate</th>\n      <th>Costs</th>\n      <th>Popularity</th>\n      <th>TotalQuality of life</th>\n    </tr>\n  </thead>\n  <tbody>\n    <tr>\n      <th>0</th>\n      <td>0</td>\n      <td>1</td>\n      <td>Australia</td>\n      <td>86</td>\n      <td>92</td>\n      <td>87</td>\n      <td>100</td>\n      <td>90</td>\n      <td>23</td>\n      <td>41</td>\n      <td>76</td>\n    </tr>\n    <tr>\n      <th>1</th>\n      <td>1</td>\n      <td>2</td>\n      <td>San Marino</td>\n      <td>81</td>\n      <td>82</td>\n      <td>91</td>\n      <td>87</td>\n      <td>62</td>\n      <td>61</td>\n      <td>47</td>\n      <td>74</td>\n    </tr>\n    <tr>\n      <th>2</th>\n      <td>2</td>\n      <td>3</td>\n      <td>Hong Kong</td>\n      <td>77</td>\n      <td>85</td>\n      <td>100</td>\n      <td>97</td>\n      <td>49</td>\n      <td>61</td>\n      <td>41</td>\n      <td>74</td>\n    </tr>\n    <tr>\n      <th>3</th>\n      <td>3</td>\n      <td>4</td>\n      <td>Switzerland</td>\n      <td>91</td>\n      <td>99</td>\n      <td>93</td>\n      <td>99</td>\n      <td>34</td>\n      <td>44</td>\n      <td>46</td>\n      <td>74</td>\n    </tr>\n    <tr>\n      <th>4</th>\n      <td>4</td>\n      <td>5</td>\n      <td>Macao</td>\n      <td>90</td>\n      <td>71</td>\n      <td>100</td>\n      <td>93</td>\n      <td>48</td>\n      <td>61</td>\n      <td>44</td>\n      <td>73</td>\n    </tr>\n  </tbody>\n</table>\n</div>"
     },
     "execution_count": 19,
     "metadata": {},
     "output_type": "execute_result"
    }
   ],
   "source": [
    "df_qol = pd.read_csv(r'.\\Data\\Quality of life in a country comparison.csv', delimiter=',')\n",
    "df_qol.head()"
   ],
   "metadata": {
    "collapsed": false,
    "ExecuteTime": {
     "end_time": "2024-03-09T22:29:54.233586Z",
     "start_time": "2024-03-09T22:29:54.218950Z"
    }
   },
   "id": "65e01f27b75454c",
   "execution_count": 19
  },
  {
   "cell_type": "markdown",
   "source": [
    "# Preparation of the CSVs\n",
    "## Cost of life Csv\n",
    "\n",
    "FOr this dataset, we only need the cost index column. Salary will be taken from jobInData, and so will need to recalculate the purchasing power"
   ],
   "metadata": {
    "collapsed": false
   },
   "id": "42889199c221ff9a"
  },
  {
   "cell_type": "code",
   "outputs": [
    {
     "data": {
      "text/plain": "          country  cost_index\n0         Bermuda       157.6\n1     Switzerland       142.4\n2  Cayman Islands       137.9\n3          Israel       130.2\n4         Iceland       128.0",
      "text/html": "<div>\n<style scoped>\n    .dataframe tbody tr th:only-of-type {\n        vertical-align: middle;\n    }\n\n    .dataframe tbody tr th {\n        vertical-align: top;\n    }\n\n    .dataframe thead th {\n        text-align: right;\n    }\n</style>\n<table border=\"1\" class=\"dataframe\">\n  <thead>\n    <tr style=\"text-align: right;\">\n      <th></th>\n      <th>country</th>\n      <th>cost_index</th>\n    </tr>\n  </thead>\n  <tbody>\n    <tr>\n      <th>0</th>\n      <td>Bermuda</td>\n      <td>157.6</td>\n    </tr>\n    <tr>\n      <th>1</th>\n      <td>Switzerland</td>\n      <td>142.4</td>\n    </tr>\n    <tr>\n      <th>2</th>\n      <td>Cayman Islands</td>\n      <td>137.9</td>\n    </tr>\n    <tr>\n      <th>3</th>\n      <td>Israel</td>\n      <td>130.2</td>\n    </tr>\n    <tr>\n      <th>4</th>\n      <td>Iceland</td>\n      <td>128.0</td>\n    </tr>\n  </tbody>\n</table>\n</div>"
     },
     "execution_count": 20,
     "metadata": {},
     "output_type": "execute_result"
    }
   ],
   "source": [
    "df_col = df_col.drop(columns=['monthly_income', 'purchasing_power_index'])\n",
    "df_col.head()"
   ],
   "metadata": {
    "collapsed": false,
    "ExecuteTime": {
     "end_time": "2024-03-09T22:29:54.247780Z",
     "start_time": "2024-03-09T22:29:54.235600Z"
    }
   },
   "id": "220e9cc8590ea29b",
   "execution_count": 20
  },
  {
   "cell_type": "code",
   "outputs": [],
   "source": [],
   "metadata": {
    "collapsed": false,
    "ExecuteTime": {
     "end_time": "2024-03-09T22:29:54.253070Z",
     "start_time": "2024-03-09T22:29:54.249790Z"
    }
   },
   "id": "5da6fd95cb59863b",
   "execution_count": 20
  },
  {
   "cell_type": "markdown",
   "source": [
    "## Jobs in Data CSV\n",
    "\n",
    "Well, with actually 3y of apprenticeship, I'm more likely to get junior position than senior. So will only keep these rows.\n",
    "Then will remove the rows of position in which I don't feel working in."
   ],
   "metadata": {
    "collapsed": false
   },
   "id": "e0588b91406abec"
  },
  {
   "cell_type": "code",
   "outputs": [
    {
     "data": {
      "text/plain": "        job_title  salary_in_usd work_setting company_location company_size\n15   Data Analyst          95000    In-person    United States            M\n16   Data Analyst          75000    In-person    United States            M\n63   Data Analyst         100000    In-person    United States            M\n64   Data Analyst          75000    In-person    United States            M\n143  Data Analyst         105000    In-person    United States            M",
      "text/html": "<div>\n<style scoped>\n    .dataframe tbody tr th:only-of-type {\n        vertical-align: middle;\n    }\n\n    .dataframe tbody tr th {\n        vertical-align: top;\n    }\n\n    .dataframe thead th {\n        text-align: right;\n    }\n</style>\n<table border=\"1\" class=\"dataframe\">\n  <thead>\n    <tr style=\"text-align: right;\">\n      <th></th>\n      <th>job_title</th>\n      <th>salary_in_usd</th>\n      <th>work_setting</th>\n      <th>company_location</th>\n      <th>company_size</th>\n    </tr>\n  </thead>\n  <tbody>\n    <tr>\n      <th>15</th>\n      <td>Data Analyst</td>\n      <td>95000</td>\n      <td>In-person</td>\n      <td>United States</td>\n      <td>M</td>\n    </tr>\n    <tr>\n      <th>16</th>\n      <td>Data Analyst</td>\n      <td>75000</td>\n      <td>In-person</td>\n      <td>United States</td>\n      <td>M</td>\n    </tr>\n    <tr>\n      <th>63</th>\n      <td>Data Analyst</td>\n      <td>100000</td>\n      <td>In-person</td>\n      <td>United States</td>\n      <td>M</td>\n    </tr>\n    <tr>\n      <th>64</th>\n      <td>Data Analyst</td>\n      <td>75000</td>\n      <td>In-person</td>\n      <td>United States</td>\n      <td>M</td>\n    </tr>\n    <tr>\n      <th>143</th>\n      <td>Data Analyst</td>\n      <td>105000</td>\n      <td>In-person</td>\n      <td>United States</td>\n      <td>M</td>\n    </tr>\n  </tbody>\n</table>\n</div>"
     },
     "execution_count": 21,
     "metadata": {},
     "output_type": "execute_result"
    }
   ],
   "source": [
    "df_jid = df_jid[df_jid['experience_level'] == 'Entry-level']\n",
    "df_jid = df_jid[df_jid['employment_type'] == 'Full-time']\n",
    "df_jid = df_jid[(df_jid['job_title'] == 'Data Analyst') | (df_jid['job_title'] == 'Data Scientist')]\n",
    "df_jid = df_jid.drop(columns=['work_year', 'job_category', 'salary_currency', 'salary', 'experience_level', 'employment_type', 'employee_residence'])\n",
    "df_jid.head()"
   ],
   "metadata": {
    "collapsed": false,
    "ExecuteTime": {
     "end_time": "2024-03-09T22:29:54.295255Z",
     "start_time": "2024-03-09T22:29:54.279090Z"
    }
   },
   "id": "a51f4cb7c3d0dbb9",
   "execution_count": 21
  },
  {
   "cell_type": "code",
   "outputs": [
    {
     "data": {
      "text/plain": "       Country  Stability  Rights  Health  Safety  Climate  Costs  Popularity\n0    Australia         86      92      87     100       90     23          41\n1   San Marino         81      82      91      87       62     61          47\n2    Hong Kong         77      85     100      97       49     61          41\n3  Switzerland         91      99      93      99       34     44          46\n4        Macao         90      71     100      93       48     61          44",
      "text/html": "<div>\n<style scoped>\n    .dataframe tbody tr th:only-of-type {\n        vertical-align: middle;\n    }\n\n    .dataframe tbody tr th {\n        vertical-align: top;\n    }\n\n    .dataframe thead th {\n        text-align: right;\n    }\n</style>\n<table border=\"1\" class=\"dataframe\">\n  <thead>\n    <tr style=\"text-align: right;\">\n      <th></th>\n      <th>Country</th>\n      <th>Stability</th>\n      <th>Rights</th>\n      <th>Health</th>\n      <th>Safety</th>\n      <th>Climate</th>\n      <th>Costs</th>\n      <th>Popularity</th>\n    </tr>\n  </thead>\n  <tbody>\n    <tr>\n      <th>0</th>\n      <td>Australia</td>\n      <td>86</td>\n      <td>92</td>\n      <td>87</td>\n      <td>100</td>\n      <td>90</td>\n      <td>23</td>\n      <td>41</td>\n    </tr>\n    <tr>\n      <th>1</th>\n      <td>San Marino</td>\n      <td>81</td>\n      <td>82</td>\n      <td>91</td>\n      <td>87</td>\n      <td>62</td>\n      <td>61</td>\n      <td>47</td>\n    </tr>\n    <tr>\n      <th>2</th>\n      <td>Hong Kong</td>\n      <td>77</td>\n      <td>85</td>\n      <td>100</td>\n      <td>97</td>\n      <td>49</td>\n      <td>61</td>\n      <td>41</td>\n    </tr>\n    <tr>\n      <th>3</th>\n      <td>Switzerland</td>\n      <td>91</td>\n      <td>99</td>\n      <td>93</td>\n      <td>99</td>\n      <td>34</td>\n      <td>44</td>\n      <td>46</td>\n    </tr>\n    <tr>\n      <th>4</th>\n      <td>Macao</td>\n      <td>90</td>\n      <td>71</td>\n      <td>100</td>\n      <td>93</td>\n      <td>48</td>\n      <td>61</td>\n      <td>44</td>\n    </tr>\n  </tbody>\n</table>\n</div>"
     },
     "execution_count": 22,
     "metadata": {},
     "output_type": "execute_result"
    }
   ],
   "source": [
    "df_qol = df_qol.drop(columns=['TotalQuality of life', 'Rank', 'Unnamed: 0'])\n",
    "df_qol.head()"
   ],
   "metadata": {
    "collapsed": false,
    "ExecuteTime": {
     "end_time": "2024-03-09T22:29:54.347454Z",
     "start_time": "2024-03-09T22:29:54.337306Z"
    }
   },
   "id": "f63d00fe651bbdfa",
   "execution_count": 22
  },
  {
   "cell_type": "code",
   "outputs": [],
   "source": [],
   "metadata": {
    "collapsed": false,
    "ExecuteTime": {
     "end_time": "2024-03-09T22:29:54.491519Z",
     "start_time": "2024-03-09T22:29:54.488021Z"
    }
   },
   "id": "70f5ca3319eaf746",
   "execution_count": 22
  }
 ],
 "metadata": {
  "kernelspec": {
   "display_name": "Python 3",
   "language": "python",
   "name": "python3"
  },
  "language_info": {
   "codemirror_mode": {
    "name": "ipython",
    "version": 2
   },
   "file_extension": ".py",
   "mimetype": "text/x-python",
   "name": "python",
   "nbconvert_exporter": "python",
   "pygments_lexer": "ipython2",
   "version": "2.7.6"
  }
 },
 "nbformat": 4,
 "nbformat_minor": 5
}
